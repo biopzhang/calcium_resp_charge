{
 "cells": [
  {
   "cell_type": "code",
   "execution_count": 38,
   "id": "palestinian-making",
   "metadata": {},
   "outputs": [],
   "source": [
    "#from Bio import PDB\n",
    "from Bio.PDB import *\n",
    "import glob\n",
    "structures=glob.glob(\"LOOP_STRUCTURES/*.pdb\")\n",
    "\n",
    "chgFile = \"charge.dat\"\n",
    "charge = dict()\n",
    "with open(chgFile,\"r\") as file1:\n",
    "    for line in file1:\n",
    "        line = line.strip().split()\n",
    "        charge[line[0]] = line[1]\n",
    "\n",
    "output = open(\"distData.txt\", 'w+')"
   ]
  },
  {
   "cell_type": "code",
   "execution_count": 39,
   "id": "limited-sunset",
   "metadata": {},
   "outputs": [],
   "source": [
    "z={'H':1, 'C':6, 'N':7, 'O':8, 'P':15, 'S':16}"
   ]
  },
  {
   "cell_type": "code",
   "execution_count": 40,
   "id": "private-intervention",
   "metadata": {},
   "outputs": [
    {
     "name": "stdout",
     "output_type": "stream",
     "text": [
      "1.8317\n",
      "6 10.8078\n",
      "6 9.335515\n",
      "8 8.509196\n",
      "7 9.134991\n",
      "6 7.946033\n",
      "6 7.490808\n",
      "8 7.3791966\n",
      "6 8.346616\n",
      "6 9.700491\n",
      "8 10.669126\n",
      "8 9.843261\n",
      "7 7.6775923\n",
      "6 7.913795\n",
      "6 6.8117337\n",
      "8 7.107346\n",
      "6 9.090728\n",
      "6 10.391291\n",
      "6 11.554367\n",
      "6 12.846483\n",
      "7 13.869418\n",
      "7 5.586654\n",
      "6 5.152951\n",
      "6 4.4812865\n",
      "8 4.469106\n",
      "6 4.6966057\n",
      "6 3.8530495\n",
      "8 2.6386929\n",
      "8 4.746726\n",
      "7 4.7091103\n",
      "6 4.873752\n",
      "6 3.8351052\n",
      "8 2.6590643\n",
      "7 4.572233\n",
      "6 4.684403\n",
      "6 6.164889\n",
      "8 7.099363\n",
      "6 4.6606264\n",
      "6 3.48438\n",
      "8 3.7930727\n",
      "8 2.6441832\n",
      "7 6.763145\n",
      "6 6.4013314\n",
      "6 5.759942\n",
      "8 6.236557\n",
      "7 5.221754\n",
      "6 5.0932217\n",
      "6 3.9326603\n",
      "8 2.8343809\n",
      "6 5.3725076\n",
      "6 5.6543255\n",
      "8 4.8220844\n",
      "7 4.6528845\n",
      "6 4.647475\n",
      "6 3.97936\n",
      "8 2.802571\n",
      "6 4.9996123\n",
      "6 6.0735354\n",
      "6 5.8380985\n",
      "6 7.0144587\n",
      "7 4.9960294\n",
      "6 5.1872725\n",
      "6 5.859061\n",
      "8 6.396319\n",
      "6 6.1933765\n",
      "6 6.659806\n",
      "8 6.2825866\n",
      "7 6.2385006\n",
      "6 7.1624093\n",
      "6 6.7364464\n",
      "8 5.853324\n",
      "6 7.577788\n",
      "6 8.863457\n",
      "8 8.070724\n",
      "7 7.7399516\n",
      "6 8.068653\n",
      "6 6.9837375\n",
      "8 7.160034\n",
      "6 9.106537\n",
      "6 10.391467\n",
      "6 11.3947935\n",
      "6 12.637036\n",
      "7 13.495707\n",
      "7 6.1293206\n",
      "6 4.856498\n",
      "6 3.8673084\n",
      "8 2.7636373\n",
      "6 5.376333\n",
      "6 4.562197\n",
      "6 3.5133564\n",
      "8 4.2132244\n",
      "8 2.5821254\n",
      "7 4.5954304\n",
      "6 5.959126\n",
      "8 2.6949937\n",
      "8 2.6397324\n",
      "1.8294\n",
      "6 15.292005\n",
      "6 14.185997\n",
      "8 14.262375\n",
      "7 13.2430935\n",
      "6 12.137242\n",
      "6 11.142987\n",
      "8 11.62975\n",
      "6 12.810942\n",
      "6 12.157647\n",
      "8 12.834662\n",
      "8 11.045478\n",
      "7 9.952862\n",
      "6 9.023919\n",
      "6 7.648195\n",
      "8 7.6089587\n",
      "6 9.517531\n",
      "6 9.792737\n",
      "6 10.713477\n",
      "6 11.329269\n",
      "7 10.534146\n",
      "7 6.7453275\n",
      "6 5.3472285\n",
      "6 5.3798738\n",
      "8 6.2884216\n",
      "6 4.582874\n",
      "6 3.0771604\n",
      "8 2.7073982\n",
      "8 2.632133\n",
      "7 4.80039\n",
      "6 5.4923778\n",
      "6 5.6166296\n",
      "8 6.740041\n",
      "7 4.783955\n",
      "6 5.3550887\n",
      "6 5.5182743\n",
      "8 5.97587\n",
      "6 5.1437545\n",
      "6 5.4375224\n",
      "7 6.6187663\n",
      "8 4.8454638\n",
      "7 5.718634\n",
      "6 6.470986\n",
      "6 6.0490465\n",
      "8 7.062143\n",
      "7 4.794584\n",
      "6 4.857532\n",
      "6 3.974372\n",
      "8 2.7572627\n",
      "6 5.107703\n",
      "6 5.0913363\n",
      "6 6.209671\n",
      "6 4.4635553\n",
      "6 6.6414666\n",
      "6 5.056365\n",
      "6 6.136322\n",
      "8 6.9878926\n",
      "7 4.7841535\n",
      "6 4.835421\n",
      "6 5.134725\n",
      "8 4.9464626\n",
      "6 6.2736425\n",
      "6 6.55584\n",
      "6 6.851276\n",
      "6 5.938459\n",
      "7 5.9269657\n",
      "6 6.5684237\n",
      "6 7.5547657\n",
      "8 7.9737897\n",
      "6 7.5527706\n",
      "8 8.397188\n",
      "7 8.14917\n",
      "6 9.282656\n",
      "6 9.088061\n",
      "8 10.143856\n",
      "6 10.471113\n",
      "7 7.8805733\n",
      "6 7.77029\n",
      "6 7.8207526\n",
      "8 7.467614\n",
      "6 6.5798655\n",
      "7 8.444496\n",
      "6 8.998937\n",
      "6 9.905857\n",
      "8 10.237621\n",
      "6 8.00535\n",
      "6 7.2320786\n",
      "6 6.544082\n",
      "8 5.330524\n",
      "8 7.473423\n",
      "7 10.514382\n",
      "6 10.896\n",
      "8 2.59326\n",
      "8 2.6358278\n",
      "8 2.677981\n",
      "8 2.6661515\n",
      "8 2.7156\n",
      "8 2.6497524\n"
     ]
    }
   ],
   "source": [
    "import numpy as np\n",
    "# Print the coordinates\n",
    "parser = PDBParser()\n",
    "for struct in structures:\n",
    "    prot = struct.split('/')[1].split('.')[0]\n",
    "    index = struct.split('/')[1].split(\".pdb\")[0]\n",
    "    if index in charge:\n",
    "        cach =  charge[index]\n",
    "        #print(cach)\n",
    "        structure = parser.get_structure(struct.split('/')[1],struct)\n",
    "\n",
    "        for i in structure.get_atoms():\n",
    "            if i.parent.get_resname() == ' CA':\n",
    "                calAtom = i\n",
    "\n",
    "        for i in structure.get_residues():\n",
    "            resid = i.get_id()[1]\n",
    "            if i.get_resname() != ' CA':\n",
    "                for j in i.get_atoms():\n",
    "                    if j.mass > 1.1:\n",
    "                        val = np.linalg.norm(j.coord - calAtom.coord)\n",
    "                        zj = z[j.element]\n",
    "                        #print(zj,val)\n",
    "                        val = zj/val\n",
    "                        output.write(\"%s,\" % val)\n",
    "        output.write(\"%s\\n\" % cach)"
   ]
  },
  {
   "cell_type": "code",
   "execution_count": 37,
   "id": "endless-wrestling",
   "metadata": {},
   "outputs": [
    {
     "data": {
      "text/plain": [
       "3.0191500402155254"
      ]
     },
     "execution_count": 37,
     "metadata": {},
     "output_type": "execute_result"
    }
   ],
   "source": [
    "val"
   ]
  },
  {
   "cell_type": "code",
   "execution_count": 13,
   "id": "grand-satin",
   "metadata": {},
   "outputs": [
    {
     "data": {
      "text/plain": [
       "{'apoCaM-CA-Ng.loop1.water2.frame1302': '1.8317',\n",
       " 'apoCaM-CA-Ng.loop3.water6.frame420': '1.8294'}"
      ]
     },
     "execution_count": 13,
     "metadata": {},
     "output_type": "execute_result"
    }
   ],
   "source": [
    "charge"
   ]
  },
  {
   "cell_type": "code",
   "execution_count": 14,
   "id": "honest-punch",
   "metadata": {},
   "outputs": [
    {
     "data": {
      "text/plain": [
       "'apoCaM-CA-Ng.loop4.water5.frame1009'"
      ]
     },
     "execution_count": 14,
     "metadata": {},
     "output_type": "execute_result"
    }
   ],
   "source": [
    "index"
   ]
  },
  {
   "cell_type": "code",
   "execution_count": 16,
   "id": "innocent-temperature",
   "metadata": {},
   "outputs": [
    {
     "data": {
      "text/plain": [
       "<Structure id=apoCaM-CA-Ng.loop3.water6.frame420.pdb>"
      ]
     },
     "execution_count": 16,
     "metadata": {},
     "output_type": "execute_result"
    }
   ],
   "source": [
    "structure"
   ]
  },
  {
   "cell_type": "code",
   "execution_count": 17,
   "id": "comparative-father",
   "metadata": {},
   "outputs": [
    {
     "data": {
      "text/plain": [
       "<Atom CA>"
      ]
     },
     "execution_count": 17,
     "metadata": {},
     "output_type": "execute_result"
    }
   ],
   "source": [
    "calAtom"
   ]
  },
  {
   "cell_type": "code",
   "execution_count": 18,
   "id": "increasing-assessment",
   "metadata": {},
   "outputs": [
    {
     "data": {
      "text/plain": [
       "'CA'"
      ]
     },
     "execution_count": 18,
     "metadata": {},
     "output_type": "execute_result"
    }
   ],
   "source": [
    "calAtom.element"
   ]
  },
  {
   "cell_type": "code",
   "execution_count": 21,
   "id": "unavailable-newspaper",
   "metadata": {},
   "outputs": [
    {
     "name": "stdout",
     "output_type": "stream",
     "text": [
      "92 PHE\n",
      "93 ASP\n",
      "94 LYS\n",
      "95 ASP\n",
      "96 GLY\n",
      "97 ASN\n",
      "98 GLY\n",
      "99 TYR\n",
      "100 ILE\n",
      "101 SER\n",
      "102 ALA\n",
      "103 ALA\n",
      "104 GLU\n",
      "105 LEU\n",
      "188  CA\n",
      "401 HOH\n",
      "402 HOH\n",
      "403 HOH\n",
      "404 HOH\n",
      "405 HOH\n",
      "406 HOH\n"
     ]
    }
   ],
   "source": [
    "for i in structure.get_residues():\n",
    "    resid = i.get_id()[1]\n",
    "    print(resid, i.get_resname()\n",
    "         )\n",
    "    if i.get_resname() != ' CA':\n",
    "        for j in i.get_atoms():\n",
    "            if j.mass > 1.1:\n",
    "                np.linalg.norm(j.coord - calAtom.coord)"
   ]
  },
  {
   "cell_type": "code",
   "execution_count": 22,
   "id": "harmful-demographic",
   "metadata": {},
   "outputs": [
    {
     "data": {
      "text/plain": [
       "<Atom HW2>"
      ]
     },
     "execution_count": 22,
     "metadata": {},
     "output_type": "execute_result"
    }
   ],
   "source": [
    "j"
   ]
  },
  {
   "cell_type": "code",
   "execution_count": 23,
   "id": "yellow-tenant",
   "metadata": {},
   "outputs": [
    {
     "data": {
      "text/plain": [
       "1.00794"
      ]
     },
     "execution_count": 23,
     "metadata": {},
     "output_type": "execute_result"
    }
   ],
   "source": [
    "j.mass"
   ]
  },
  {
   "cell_type": "code",
   "execution_count": 24,
   "id": "appropriate-hunter",
   "metadata": {},
   "outputs": [
    {
     "data": {
      "text/plain": [
       "array([ 1.0299988, -2.550003 ,  1.3499985], dtype=float32)"
      ]
     },
     "execution_count": 24,
     "metadata": {},
     "output_type": "execute_result"
    }
   ],
   "source": [
    "j.coord - calAtom.coord"
   ]
  },
  {
   "cell_type": "code",
   "execution_count": 25,
   "id": "hidden-emergency",
   "metadata": {},
   "outputs": [
    {
     "data": {
      "text/plain": [
       "191"
      ]
     },
     "execution_count": 25,
     "metadata": {},
     "output_type": "execute_result"
    }
   ],
   "source": [
    "j.serial_number"
   ]
  },
  {
   "cell_type": "code",
   "execution_count": 26,
   "id": "compact-mauritius",
   "metadata": {},
   "outputs": [
    {
     "name": "stdout",
     "output_type": "stream",
     "text": [
      "Help on Atom in module Bio.PDB.Atom object:\n",
      "\n",
      "class Atom(builtins.object)\n",
      " |  Atom(name, coord, bfactor, occupancy, altloc, fullname, serial_number, element=None)\n",
      " |  \n",
      " |  Define Atom class.\n",
      " |  \n",
      " |  The Atom object stores atom name (both with and without spaces),\n",
      " |  coordinates, B factor, occupancy, alternative location specifier\n",
      " |  and (optionally) anisotropic B factor and standard deviations of\n",
      " |  B factor and positions.\n",
      " |  \n",
      " |  Methods defined here:\n",
      " |  \n",
      " |  __eq__(self, other)\n",
      " |      Test equality.\n",
      " |  \n",
      " |  __ge__(self, other)\n",
      " |      Test greater or equal.\n",
      " |  \n",
      " |  __gt__(self, other)\n",
      " |      Test greater than.\n",
      " |  \n",
      " |  __hash__(self)\n",
      " |      Return atom full identifier.\n",
      " |  \n",
      " |  __init__(self, name, coord, bfactor, occupancy, altloc, fullname, serial_number, element=None)\n",
      " |      Initialize Atom object.\n",
      " |      \n",
      " |      :param name: atom name (eg. \"CA\"). Note that spaces are normally stripped.\n",
      " |      :type name: string\n",
      " |      \n",
      " |      :param coord: atomic coordinates (x,y,z)\n",
      " |      :type coord: Numeric array (Float0, size 3)\n",
      " |      \n",
      " |      :param bfactor: isotropic B factor\n",
      " |      :type bfactor: number\n",
      " |      \n",
      " |      :param occupancy: occupancy (0.0-1.0)\n",
      " |      :type occupancy: number\n",
      " |      \n",
      " |      :param altloc: alternative location specifier for disordered atoms\n",
      " |      :type altloc: string\n",
      " |      \n",
      " |      :param fullname: full atom name, including spaces, e.g. \" CA \". Normally\n",
      " |                       these spaces are stripped from the atom name.\n",
      " |      :type fullname: string\n",
      " |      \n",
      " |      :param element: atom element, e.g. \"C\" for Carbon, \"HG\" for mercury,\n",
      " |      :type element: uppercase string (or None if unknown)\n",
      " |  \n",
      " |  __le__(self, other)\n",
      " |      Test less or equal.\n",
      " |  \n",
      " |  __lt__(self, other)\n",
      " |      Test less than.\n",
      " |  \n",
      " |  __ne__(self, other)\n",
      " |      Test inequality.\n",
      " |  \n",
      " |  __repr__(self)\n",
      " |      Print Atom object as <Atom atom_name>.\n",
      " |  \n",
      " |  __sub__(self, other)\n",
      " |      Calculate distance between two atoms.\n",
      " |      \n",
      " |      :param other: the other atom\n",
      " |      :type other: L{Atom}\n",
      " |      \n",
      " |      Examples\n",
      " |      --------\n",
      " |      This is an incomplete but illustrative example::\n",
      " |      \n",
      " |          distance = atom1 - atom2\n",
      " |  \n",
      " |  copy(self)\n",
      " |      Create a copy of the Atom.\n",
      " |      \n",
      " |      Parent information is lost.\n",
      " |  \n",
      " |  detach_parent(self)\n",
      " |      Remove reference to parent.\n",
      " |  \n",
      " |  flag_disorder(self)\n",
      " |      Set the disordered flag to 1.\n",
      " |      \n",
      " |      The disordered flag indicates whether the atom is disordered or not.\n",
      " |  \n",
      " |  get_altloc(self)\n",
      " |      Return alternative location specifier.\n",
      " |  \n",
      " |  get_anisou(self)\n",
      " |      Return anisotropic B factor.\n",
      " |  \n",
      " |  get_bfactor(self)\n",
      " |      Return B factor.\n",
      " |  \n",
      " |  get_coord(self)\n",
      " |      Return atomic coordinates.\n",
      " |  \n",
      " |  get_full_id(self)\n",
      " |      Return the full id of the atom.\n",
      " |      \n",
      " |      The full id of an atom is the tuple\n",
      " |      (structure id, model id, chain id, residue id, atom name, altloc).\n",
      " |  \n",
      " |  get_fullname(self)\n",
      " |      Return the atom name, including leading and trailing spaces.\n",
      " |  \n",
      " |  get_id(self)\n",
      " |      Return the id of the atom (which is its atom name).\n",
      " |  \n",
      " |  get_level(self)\n",
      " |      Return level.\n",
      " |  \n",
      " |  get_name(self)\n",
      " |      Return atom name.\n",
      " |  \n",
      " |  get_occupancy(self)\n",
      " |      Return occupancy.\n",
      " |  \n",
      " |  get_parent(self)\n",
      " |      Return parent residue.\n",
      " |  \n",
      " |  get_serial_number(self)\n",
      " |      Return the serial number.\n",
      " |  \n",
      " |  get_sigatm(self)\n",
      " |      Return standard deviation of atomic parameters.\n",
      " |  \n",
      " |  get_siguij(self)\n",
      " |      Return standard deviations of anisotropic temperature factors.\n",
      " |  \n",
      " |  get_vector(self)\n",
      " |      Return coordinates as Vector.\n",
      " |      \n",
      " |      :return: coordinates as 3D vector\n",
      " |      :rtype: Bio.PDB.Vector class\n",
      " |  \n",
      " |  is_disordered(self)\n",
      " |      Return the disordered flag (1 if disordered, 0 otherwise).\n",
      " |  \n",
      " |  set_altloc(self, altloc)\n",
      " |      Set alternative location specifier.\n",
      " |  \n",
      " |  set_anisou(self, anisou_array)\n",
      " |      Set anisotropic B factor.\n",
      " |      \n",
      " |      :param anisou_array: anisotropic B factor.\n",
      " |      :type anisou_array: Numeric array (length 6)\n",
      " |  \n",
      " |  set_bfactor(self, bfactor)\n",
      " |      Set isotroptic B factor.\n",
      " |  \n",
      " |  set_coord(self, coord)\n",
      " |      Set coordinates.\n",
      " |  \n",
      " |  set_occupancy(self, occupancy)\n",
      " |      Set occupancy.\n",
      " |  \n",
      " |  set_parent(self, parent)\n",
      " |      Set the parent residue.\n",
      " |      \n",
      " |      Arguments:\n",
      " |       - parent - Residue object\n",
      " |  \n",
      " |  set_serial_number(self, n)\n",
      " |      Set serial number.\n",
      " |  \n",
      " |  set_sigatm(self, sigatm_array)\n",
      " |      Set standard deviation of atomic parameters.\n",
      " |      \n",
      " |      The standard deviation of atomic parameters consists\n",
      " |      of 3 positional, 1 B factor and 1 occupancy standard\n",
      " |      deviation.\n",
      " |      \n",
      " |      :param sigatm_array: standard deviations of atomic parameters.\n",
      " |      :type sigatm_array: Numeric array (length 5)\n",
      " |  \n",
      " |  set_siguij(self, siguij_array)\n",
      " |      Set standard deviations of anisotropic temperature factors.\n",
      " |      \n",
      " |      :param siguij_array: standard deviations of anisotropic temperature factors.\n",
      " |      :type siguij_array: Numeric array (length 6)\n",
      " |  \n",
      " |  transform(self, rot, tran)\n",
      " |      Apply rotation and translation to the atomic coordinates.\n",
      " |      \n",
      " |      :param rot: A right multiplying rotation matrix\n",
      " |      :type rot: 3x3 Numeric array\n",
      " |      \n",
      " |      :param tran: the translation vector\n",
      " |      :type tran: size 3 Numeric array\n",
      " |      \n",
      " |      Examples\n",
      " |      --------\n",
      " |      This is an incomplete but illustrative example::\n",
      " |      \n",
      " |          from numpy import pi, array\n",
      " |          from Bio.PDB.vectors import Vector, rotmat\n",
      " |          rotation = rotmat(pi, Vector(1, 0, 0))\n",
      " |          translation = array((0, 0, 1), 'f')\n",
      " |          atom.transform(rotation, translation)\n",
      " |  \n",
      " |  ----------------------------------------------------------------------\n",
      " |  Data descriptors defined here:\n",
      " |  \n",
      " |  __dict__\n",
      " |      dictionary for instance variables (if defined)\n",
      " |  \n",
      " |  __weakref__\n",
      " |      list of weak references to the object (if defined)\n",
      "\n"
     ]
    }
   ],
   "source": [
    "help(j)"
   ]
  },
  {
   "cell_type": "code",
   "execution_count": 27,
   "id": "invisible-amateur",
   "metadata": {},
   "outputs": [
    {
     "data": {
      "text/plain": [
       "('apoCaM-CA-Ng.loop3.water6.frame420.pdb',\n",
       " 0,\n",
       " 'X',\n",
       " (' ', 406, ' '),\n",
       " ('HW2', ' '))"
      ]
     },
     "execution_count": 27,
     "metadata": {},
     "output_type": "execute_result"
    }
   ],
   "source": [
    "j.full_id"
   ]
  },
  {
   "cell_type": "code",
   "execution_count": 28,
   "id": "nuclear-daniel",
   "metadata": {},
   "outputs": [
    {
     "data": {
      "text/plain": [
       "0.0"
      ]
     },
     "execution_count": 28,
     "metadata": {},
     "output_type": "execute_result"
    }
   ],
   "source": [
    "j.bfactor"
   ]
  },
  {
   "cell_type": "code",
   "execution_count": 29,
   "id": "cubic-islam",
   "metadata": {},
   "outputs": [
    {
     "data": {
      "text/plain": [
       "'H'"
      ]
     },
     "execution_count": 29,
     "metadata": {},
     "output_type": "execute_result"
    }
   ],
   "source": [
    "j.element"
   ]
  },
  {
   "cell_type": "code",
   "execution_count": null,
   "id": "talented-suite",
   "metadata": {},
   "outputs": [],
   "source": []
  }
 ],
 "metadata": {
  "kernelspec": {
   "display_name": "Python 3",
   "language": "python",
   "name": "python3"
  },
  "language_info": {
   "codemirror_mode": {
    "name": "ipython",
    "version": 3
   },
   "file_extension": ".py",
   "mimetype": "text/x-python",
   "name": "python",
   "nbconvert_exporter": "python",
   "pygments_lexer": "ipython3",
   "version": "3.7.3"
  }
 },
 "nbformat": 4,
 "nbformat_minor": 5
}
