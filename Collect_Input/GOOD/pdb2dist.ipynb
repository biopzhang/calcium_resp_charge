{
 "cells": [
  {
   "cell_type": "code",
   "execution_count": 65,
   "id": "prime-ecology",
   "metadata": {},
   "outputs": [],
   "source": [
    "#from Bio import PDB\n",
    "from Bio.PDB import *\n",
    "import glob\n",
    "structures=glob.glob(\"LOOP_STRUCTURES/*.pdb\")\n",
    "\n",
    "chgFile = \"charge.dat\"\n",
    "charge = dict()\n",
    "with open(chgFile,\"r\") as file1:\n",
    "    for line in file1:\n",
    "        line = line.strip().split()\n",
    "        charge[line[0]] = line[1]\n",
    "\n",
    "output = open(\"distData.txt\", 'w')"
   ]
  },
  {
   "cell_type": "code",
   "execution_count": 66,
   "id": "square-neutral",
   "metadata": {},
   "outputs": [],
   "source": [
    "z={'H':1, 'C':6, 'N':7, 'O':8, 'P':15, 'S':16}"
   ]
  },
  {
   "cell_type": "code",
   "execution_count": 67,
   "id": "subject-spending",
   "metadata": {},
   "outputs": [],
   "source": [
    "import numpy as np\n",
    "# Print the coordinates\n",
    "parser = PDBParser()\n",
    "for struct in structures:\n",
    "    prot = struct.split('/')[1].split('.')[0]\n",
    "    index = struct.split('/')[1].split(\".pdb\")[0]\n",
    "    if index in charge:\n",
    "        AtomCount = 0\n",
    "        cach =  charge[index]\n",
    "        #print(cach)\n",
    "        structure = parser.get_structure(struct.split('/')[1],struct)\n",
    "\n",
    "        for i in structure.get_atoms():\n",
    "            if i.parent.get_resname() == ' CA':\n",
    "                calAtom = i\n",
    "\n",
    "        for i in structure.get_residues():\n",
    "            resid = i.get_id()[1]\n",
    "            if i.get_resname() != ' CA':\n",
    "                for j in i.get_atoms():\n",
    "                    if j.mass > 1.1:\n",
    "                        AtomCount += 1\n",
    "                        val = np.linalg.norm(j.coord - calAtom.coord)\n",
    "                        zj = z[j.element]\n",
    "                        #print(zj,val)\n",
    "                        val = zj/val\n",
    "                        output.write(\"%s,\" % val)\n",
    "        for k in range(AtomCount,108):\n",
    "            output.write(\"0,\")\n",
    "        output.write(\"%s\\n\" % cach)\n",
    "    \n",
    "output.close()"
   ]
  }
 ],
 "metadata": {
  "kernelspec": {
   "display_name": "Python 3",
   "language": "python",
   "name": "python3"
  },
  "language_info": {
   "codemirror_mode": {
    "name": "ipython",
    "version": 3
   },
   "file_extension": ".py",
   "mimetype": "text/x-python",
   "name": "python",
   "nbconvert_exporter": "python",
   "pygments_lexer": "ipython3",
   "version": "3.7.3"
  }
 },
 "nbformat": 4,
 "nbformat_minor": 5
}
